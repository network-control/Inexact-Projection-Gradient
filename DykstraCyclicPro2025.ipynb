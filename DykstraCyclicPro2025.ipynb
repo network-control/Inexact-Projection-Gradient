{
 "cells": [
  {
   "cell_type": "code",
   "execution_count": 1,
   "id": "8138f0fd-a98e-40a4-a126-1bf726b3a20b",
   "metadata": {},
   "outputs": [],
   "source": [
    "using LinearAlgebra\n",
    "using JuMP\n",
    "using Gurobi\n",
    "using Plots\n",
    "using Random\n",
    "using LaTeXStrings"
   ]
  },
  {
   "cell_type": "raw",
   "id": "e8f0c1a0-118c-4c4f-8604-991ea14e9d6e",
   "metadata": {},
   "source": [
    "向量的定义方法：A = [1; 1]\n",
    "向量相乘：A'*A"
   ]
  },
  {
   "cell_type": "code",
   "execution_count": 2,
   "id": "73cb3618-4e66-40fa-9c37-44cdb63dc24d",
   "metadata": {},
   "outputs": [
    {
     "data": {
      "text/plain": [
       "project_hyperplane (generic function with 1 method)"
      ]
     },
     "execution_count": 2,
     "metadata": {},
     "output_type": "execute_result"
    }
   ],
   "source": [
    "function project_hyperplane(A,x0,lcon,ucon)\n",
    "    if A'*x0 > ucon\n",
    "        return x0 - ((A'*x0-ucon)/(A'*A))*A\n",
    "    elseif A'*x0<lcon\n",
    "        return x0 - ((A'*x0-lcon)/(A'*A))*A\n",
    "    elseif lcon<=A'*x0 && A'*x0<=ucon\n",
    "        return x0\n",
    "    end\n",
    "end"
   ]
  },
  {
   "cell_type": "raw",
   "id": "a102886d-79b3-4f79-8999-010aceb599ac",
   "metadata": {},
   "source": [
    "A = [1 1;2 1]\n",
    "project_hyperplane(A[1,:],[0; 0],-1)"
   ]
  },
  {
   "cell_type": "code",
   "execution_count": 3,
   "id": "f2cdd5c4-8f95-4605-a1af-3e7f1dc5864d",
   "metadata": {},
   "outputs": [
    {
     "data": {
      "text/plain": [
       "project_bound (generic function with 1 method)"
      ]
     },
     "execution_count": 3,
     "metadata": {},
     "output_type": "execute_result"
    }
   ],
   "source": [
    "function project_bound(x0,lb,ub)\n",
    "    return min.(max.(x0,lb),ub)\n",
    "end"
   ]
  },
  {
   "cell_type": "raw",
   "id": "40c9a035-d258-42e2-96db-c422b9005712",
   "metadata": {},
   "source": [
    "x0 = [1; 2];\n",
    "lb = [2; 0]\n",
    "ub = [3;1]\n",
    "project_bound(x0,lb,ub)"
   ]
  },
  {
   "cell_type": "code",
   "execution_count": 4,
   "id": "371f3161-a50f-4088-b2b6-d31ff9f12fe1",
   "metadata": {},
   "outputs": [
    {
     "data": {
      "text/plain": [
       "dykstra_projection"
      ]
     },
     "execution_count": 4,
     "metadata": {},
     "output_type": "execute_result"
    }
   ],
   "source": [
    "\"\"\"\n",
    "Dykstra's Cyclic Projection Algorithm\n",
    "- 目标: 找到点 `x` 在多个凸集合 C₁, C₂, ..., Cₖ 的交集上的投影\n",
    "- 输入: \n",
    "  - x0: 初始点\n",
    "  - sets: 凸集合的投影函数数组（每个函数接受向量，返回投影后的向量）\n",
    "  - max_iter: 最大迭代次数\n",
    "  - tol: 收敛容忍度\n",
    "- 输出: 投影后的点 x 和修正项历史记录\n",
    "\"\"\"\n",
    "function dykstra_projection(x0::Vector{Float64},A,low_con,up_con,low_var,up_var,\n",
    "        max_iter::Int = 1000, tol::Float64 = 1e-3\n",
    ")\n",
    "#    k = length(sets)\n",
    "#    println(size(A,1))\n",
    "    k = size(A,1)\n",
    "    x = copy(x0)\n",
    "    n = length(x)\n",
    "    # 初始化修正项\n",
    "    y = [zeros(n) for _ in 1:(k+1)]\n",
    "    history = Float64[]\n",
    "    \n",
    "    for iter in 1:max_iter\n",
    "        x_prev = copy(x)\n",
    "        for i in 1:(k+1)\n",
    "            # 计算修正后的投影\n",
    "            x_temp = x - y[i]\n",
    "            # 对当前约束进行投影\n",
    "            x_proj = x;\n",
    "            if i<=k\n",
    "                #对low_con<=Ax<=up_con约束进行投影\n",
    "                x_proj = project_hyperplane(A[i,:],x_temp,low_con[i],up_con[i])\n",
    "            elseif i==k+1\n",
    "                x_proj = project_bound(x_temp,low_var,up_var)\n",
    "            end\n",
    "            #x_proj = sets[i](x_temp)\n",
    "            # 更新修正项\n",
    "            y[i] = x_proj - (x_temp - y[i])\n",
    "            # 更新当前估计\n",
    "            x = x_proj\n",
    "        end\n",
    "        # 检查收敛性\n",
    "        residual = norm(x - x_prev)\n",
    "        push!(history, residual)\n",
    "        if residual < tol\n",
    "            #println(\"Converged at iteration $iter\")\n",
    "            break\n",
    "        end\n",
    "    end\n",
    "   # return x, history\n",
    "    return x\n",
    "end"
   ]
  },
  {
   "cell_type": "raw",
   "id": "15224aed-f18f-434f-a166-0b9d1521c88e",
   "metadata": {},
   "source": [
    "A = [1 1;2 1];\n",
    "low_con = [1;2]\n",
    "up_con = [2;3]\n",
    "low_var = [0; 0]\n",
    "up_var = [10; 10]\n",
    "\n",
    "x0 = [-1.0; 12.0];\n",
    "\n",
    "x = dykstra_projection(x0,A,low_con,up_con,low_var,up_var)"
   ]
  },
  {
   "cell_type": "code",
   "execution_count": 5,
   "id": "eb3537af-4bca-4b99-9fa1-8b45934950f3",
   "metadata": {},
   "outputs": [
    {
     "name": "stdout",
     "output_type": "stream",
     "text": [
      "Set parameter LicenseID to value 2590635\n",
      "* Solver : Gurobi\n",
      "\n",
      "* Status\n",
      "  Result count       : 1\n",
      "  Termination status : OPTIMAL\n",
      "  Message from the solver:\n",
      "  \"Model was solved to optimality (subject to tolerances), and an optimal solution is available.\"\n",
      "\n",
      "* Candidate solution (result #1)\n",
      "  Primal status      : FEASIBLE_POINT\n",
      "  Dual status        : FEASIBLE_POINT\n",
      "  Objective value    : 7.36389e+04\n",
      "  Objective bound    : 7.36389e+04\n",
      "  Dual objective value : 7.36389e+04\n",
      "\n",
      "* Work counters\n",
      "  Solve time (sec)   : 1.79999e-02\n",
      "  Simplex iterations : 0\n",
      "  Barrier iterations : 8\n",
      "  Node count         : 0\n",
      "\n",
      "73638.90052140859\n"
     ]
    },
    {
     "data": {
      "text/plain": [
       "10-element Vector{Float64}:\n",
       "  39.79764526249099\n",
       "  42.000000000001144\n",
       " -57.999999999998785\n",
       "  72.00000000000006\n",
       " -36.730856758513454\n",
       " -15.875671133488225\n",
       "   5.616590240100351\n",
       "  83.00000000000018\n",
       "  63.000000000002544\n",
       " -61.94199060150051"
      ]
     },
     "execution_count": 5,
     "metadata": {},
     "output_type": "execute_result"
    }
   ],
   "source": [
    "\n",
    "Random.seed!(223)  # 设置一个具体的种子值\n",
    "\n",
    "N = 10;\n",
    "ub = rand(100:500,N);\n",
    "lb = rand(-300:99,N);\n",
    "\n",
    "con_ub = rand(100:500,N);\n",
    "con_lb = rand(-300:99,N); \n",
    "A = randn(N,N); \n",
    "#A = A'*A; A = (A + A')/2\n",
    "\n",
    "c = rand(N);\n",
    "Q = randn(N,N); Q = Q'*Q; Q = (Q + Q')/2\n",
    "\n",
    "#= 对矩阵Q的特征根进行测试，目的是验证矩阵Q的正定性\n",
    "λ=eigen(Q);\n",
    "\n",
    "for k in range(1,length(λ.values))\n",
    "    if λ.values[k] >= 0\n",
    "        println(false)\n",
    "    end\n",
    "end\n",
    "=#\n",
    "\n",
    "model = Model(Gurobi.Optimizer)\n",
    "set_silent(model)\n",
    "@variable(model, x[1:N])\n",
    "@constraint(model, x.<=ub)\n",
    "@constraint(model, lb.<= x)\n",
    "\n",
    "@constraint(model, A*x .<= con_ub)\n",
    "@constraint(model, con_lb .<= A*x)\n",
    "\n",
    "@objective(model, Min, dot(c,x) + 0.5*transpose(x)*Q*x)\n",
    "\n",
    "optimize!(model)\n",
    "#print(value.(x),\"\\n\")\n",
    "print(solution_summary(model),\"\\n\")\n",
    "println(objective_value(model))\n",
    "\n",
    "opt_x = value.(x)"
   ]
  },
  {
   "cell_type": "code",
   "execution_count": 6,
   "id": "7161474a-0e40-4812-93ad-1136d4d04707",
   "metadata": {},
   "outputs": [],
   "source": [
    "var_num = N;\n",
    "Max_Iters = 1000;\n",
    "x0 = zeros(var_num,1);\n",
    "xk = zeros(var_num,Max_Iters);\n",
    "cost = zeros(1,Max_Iters);\n",
    "cost[1,1] = 0.5*dot(Q*xk[:,1],xk[:,1]);\n",
    "\n",
    "for k in range(1,Max_Iters-1)\n",
    "    grad = Q*xk[:,k] + c;\n",
    "    x = xk[:,k] - grad/(k+1);\n",
    "    #xk[:,k+1] = CyclicDykstraAlgorithm(x,ConMatrix,BoundMatrix,2000);\n",
    "    #xk[:,k+1] = CyclicDykstraAlgorithm(x,A,ucon,100);\n",
    "     xk[:,k+1] = dykstra_projection(x,A,con_lb,con_ub,lb,ub)\n",
    "    #xk[:,k+1] = dykstra_projection(x,A,con_lb,con_ub,lb,ub,1000,1/k)\n",
    "    cost[1,k+1] = 0.5*dot(Q*xk[:,k+1],xk[:,k+1]) + dot(c,xk[:,k+1]);\n",
    "    if mod(k,1000)==0\n",
    "        print(k,\"，\")\n",
    "    end\n",
    "end"
   ]
  },
  {
   "cell_type": "code",
   "execution_count": 7,
   "id": "02c8c81d-3fb7-4c3d-af30-4bc9c2d6f29b",
   "metadata": {},
   "outputs": [
    {
     "data": {
      "text/plain": [
       "73639.14107783046"
      ]
     },
     "execution_count": 7,
     "metadata": {},
     "output_type": "execute_result"
    }
   ],
   "source": [
    "cost[1,end-1]"
   ]
  },
  {
   "cell_type": "code",
   "execution_count": 11,
   "id": "5ef18211-1317-4b6c-8922-0b4955cf1010",
   "metadata": {},
   "outputs": [
    {
     "data": {
      "text/plain": [
       "\"C:\\\\Users\\\\pengl\\\\ferror.pdf\""
      ]
     },
     "execution_count": 11,
     "metadata": {},
     "output_type": "execute_result"
    }
   ],
   "source": [
    "plot(1:900,abs.(cost[1,1:900].-objective_value(model)),yscale=:log10,linewidth=2,legend=false,color =\"red\")\n",
    "xlabel!(\"Iteration k\")\n",
    "ylabel!(L\"||f_{k}-f^{*}||\")\n",
    "savefig(\"ferror.pdf\")"
   ]
  },
  {
   "cell_type": "markdown",
   "id": "a6eca26b-1611-442a-8803-94917342d558",
   "metadata": {},
   "source": [
    "a1 = zeros(1,2)\n",
    "a2 = zeros(1,2)\n",
    "abs.(a1[1,1:2].-a2[1,1:2])"
   ]
  },
  {
   "cell_type": "code",
   "execution_count": 12,
   "id": "7c36a58d-8ca0-43b2-babf-11097c35a46f",
   "metadata": {},
   "outputs": [
    {
     "data": {
      "text/plain": [
       "\"C:\\\\Users\\\\pengl\\\\xerror.pdf\""
      ]
     },
     "execution_count": 12,
     "metadata": {},
     "output_type": "execute_result"
    }
   ],
   "source": [
    "x_error = zeros(Max_Iters);\n",
    "for k in range(1,Max_Iters)\n",
    "    x_error[k] = norm(xk[:,k]-opt_x)\n",
    "end\n",
    "\n",
    "#plot(1:Max_Iters,x_error[1:Max_Iters],yscale=:log10,linewidth = 2)\n",
    "plot(1:900,x_error[1:900],yscale=:log10,linewidth = 2,legend=false)\n",
    "xlabel!(\"Iteration k\")\n",
    "ylabel!(L\"||x_{k}-x^{*}||\")\n",
    "savefig(\"xerror.pdf\")"
   ]
  },
  {
   "cell_type": "code",
   "execution_count": 13,
   "id": "163a11b6-cf19-4df6-b265-adca153c4209",
   "metadata": {},
   "outputs": [
    {
     "data": {
      "text/plain": [
       "0.6888915923172326"
      ]
     },
     "execution_count": 13,
     "metadata": {},
     "output_type": "execute_result"
    }
   ],
   "source": [
    "norm(xk[:,end]-opt_x)"
   ]
  },
  {
   "cell_type": "code",
   "execution_count": null,
   "id": "22fa0555-89f7-4e26-a92e-925f93185847",
   "metadata": {},
   "outputs": [],
   "source": []
  },
  {
   "cell_type": "code",
   "execution_count": null,
   "id": "ea48571a-812a-424f-b0e1-f85a5922dcc8",
   "metadata": {},
   "outputs": [],
   "source": []
  },
  {
   "cell_type": "code",
   "execution_count": null,
   "id": "ce327da8-c559-4e8e-9da1-7483e35e39f5",
   "metadata": {},
   "outputs": [],
   "source": []
  }
 ],
 "metadata": {
  "kernelspec": {
   "display_name": "Julia 1.11.2",
   "language": "julia",
   "name": "julia-1.11"
  },
  "language_info": {
   "file_extension": ".jl",
   "mimetype": "application/julia",
   "name": "julia",
   "version": "1.11.2"
  }
 },
 "nbformat": 4,
 "nbformat_minor": 5
}
